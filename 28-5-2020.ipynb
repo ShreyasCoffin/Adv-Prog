{
 "cells": [
  {
   "cell_type": "markdown",
   "metadata": {},
   "source": [
    "# 28-5-2020\n",
    "## Strings"
   ]
  },
  {
   "cell_type": "code",
   "execution_count": 2,
   "metadata": {},
   "outputs": [
    {
     "name": "stdout",
     "output_type": "stream",
     "text": [
      "enter a string:shreyas\n",
      "<class 'str'> <class 'str'>\n"
     ]
    }
   ],
   "source": [
    "s1=input(\"enter a string:\")\n",
    "s2='good afternoon'\n",
    "print(type(s1),type(s2))"
   ]
  },
  {
   "cell_type": "code",
   "execution_count": 3,
   "metadata": {},
   "outputs": [
    {
     "name": "stdout",
     "output_type": "stream",
     "text": [
      "shreyasgood afternoon\n",
      "shreyasshreyasshreyas\n",
      "y\n",
      "s\n",
      "reyas\n"
     ]
    }
   ],
   "source": [
    "#operators:+,*(repetition),[](slice),[:](slice range)\n",
    "print(s1+s2)\n",
    "print(s1*3)\n",
    "print(s1[4])\n",
    "print(s1[-1])\n",
    "print(s1[2:])"
   ]
  },
  {
   "cell_type": "code",
   "execution_count": 4,
   "metadata": {},
   "outputs": [
    {
     "name": "stdout",
     "output_type": "stream",
     "text": [
      "shrey\n",
      "shreyas\n"
     ]
    }
   ],
   "source": [
    "print(s1[0:5])\n",
    "print(s1[:])"
   ]
  },
  {
   "cell_type": "code",
   "execution_count": 5,
   "metadata": {},
   "outputs": [
    {
     "name": "stdout",
     "output_type": "stream",
     "text": [
      "enter a string:shreyas\n",
      "the given string is not a palindrome\n"
     ]
    }
   ],
   "source": [
    "#accept a string from the user and check whether it is palindrome or not\n",
    "s3=input(\"enter a string:\")\n",
    "if s3==s3[::-1]:\n",
    "    print(\"the given string is plaindrome\")\n",
    "else:\n",
    "    print(\"the given string is not a palindrome\")"
   ]
  },
  {
   "cell_type": "code",
   "execution_count": 6,
   "metadata": {},
   "outputs": [
    {
     "name": "stdout",
     "output_type": "stream",
     "text": [
      "True\n",
      "False\n",
      "False\n",
      "True\n"
     ]
    }
   ],
   "source": [
    "s4=\"python\"\n",
    "print(\"on\" in s4)\n",
    "print(\"xyz\" in s4)\n",
    "print(\"on\" not in s4)\n",
    "print(\"xyz\" not in s4)"
   ]
  },
  {
   "cell_type": "markdown",
   "metadata": {},
   "source": [
    "# Built-in function:\n",
    "1. len() -->length of the string\n",
    "2. max()\n",
    "3. min()\n",
    "4. str() -->converting any datatype to string"
   ]
  },
  {
   "cell_type": "code",
   "execution_count": 7,
   "metadata": {},
   "outputs": [
    {
     "name": "stdout",
     "output_type": "stream",
     "text": [
      "5\n",
      "o\n",
      "e\n",
      "c\n",
      "1\n"
     ]
    }
   ],
   "source": [
    "s=\"hello\"\n",
    "s1=\"abc123\"\n",
    "print(len(s))\n",
    "print(max(s))\n",
    "print(min(s))\n",
    "print(max(s1))\n",
    "print(min(s1))"
   ]
  },
  {
   "cell_type": "markdown",
   "metadata": {},
   "source": [
    "#Built-in methods:\n",
    "1. captalize()\n",
    "2. isalpha()\n",
    "3. isdigit()\n",
    "4. isalnum()\n",
    "5. islower()\n",
    "6. upper()\n",
    "7. lower()\n",
    "8. swapcase()"
   ]
  },
  {
   "cell_type": "code",
   "execution_count": 10,
   "metadata": {},
   "outputs": [
    {
     "name": "stdout",
     "output_type": "stream",
     "text": [
      "5\n",
      "Hello\n",
      "hello\n"
     ]
    }
   ],
   "source": [
    "s=\"hello\"\n",
    "print(len(s))#function name(object name)\n",
    "print(s.capitalize())#object name.method name()\n",
    "print(s)"
   ]
  },
  {
   "cell_type": "code",
   "execution_count": 11,
   "metadata": {},
   "outputs": [
    {
     "name": "stdout",
     "output_type": "stream",
     "text": [
      "True\n",
      "False\n",
      "True\n",
      "False\n",
      "False\n",
      "True\n",
      "False\n",
      "True\n",
      "True\n"
     ]
    }
   ],
   "source": [
    "s1=\"hello\"\n",
    "s2=\"abc123\"\n",
    "s3=\"123\"\n",
    "print(s1.isalpha())\n",
    "print(s1.isdigit())\n",
    "print(s1.isalnum())\n",
    "print(s2.isalpha())\n",
    "print(s2.isdigit())\n",
    "print(s2.isalnum())\n",
    "print(s3.isalpha())\n",
    "print(s3.isdigit())\n",
    "print(s3.isalnum())"
   ]
  },
  {
   "cell_type": "code",
   "execution_count": 12,
   "metadata": {},
   "outputs": [
    {
     "name": "stdout",
     "output_type": "stream",
     "text": [
      "False\n",
      "True\n",
      "True\n",
      "False\n"
     ]
    }
   ],
   "source": [
    "s1=\"python\"\n",
    "s2=\"PYTHON\"\n",
    "print(s1.isupper())\n",
    "print(s2.isupper())\n",
    "print(s1.islower())\n",
    "print(s2.islower())"
   ]
  },
  {
   "cell_type": "code",
   "execution_count": 13,
   "metadata": {},
   "outputs": [
    {
     "name": "stdout",
     "output_type": "stream",
     "text": [
      "PYTHON\n",
      "python\n",
      "PYTHON\n"
     ]
    }
   ],
   "source": [
    "print(s1.upper())\n",
    "print(s1.lower())\n",
    "print(s1.swapcase())"
   ]
  },
  {
   "cell_type": "code",
   "execution_count": 14,
   "metadata": {},
   "outputs": [
    {
     "name": "stdout",
     "output_type": "stream",
     "text": [
      "pyTHon\n"
     ]
    }
   ],
   "source": [
    "s=\"PYthON\"\n",
    "print(s.swapcase())#pyTHon"
   ]
  },
  {
   "cell_type": "code",
   "execution_count": 15,
   "metadata": {},
   "outputs": [
    {
     "data": {
      "text/plain": [
       "3"
      ]
     },
     "execution_count": 15,
     "metadata": {},
     "output_type": "execute_result"
    }
   ],
   "source": [
    "s=\"abc abc abc\"\n",
    "s.count(\"abc\")"
   ]
  },
  {
   "cell_type": "code",
   "execution_count": 16,
   "metadata": {},
   "outputs": [
    {
     "name": "stdout",
     "output_type": "stream",
     "text": [
      "['abc', 'abc', 'abc']\n",
      "['a', 'b', 'c', 'd']\n"
     ]
    }
   ],
   "source": [
    "#split()-->return type is list\n",
    "s.split()\n",
    "print(s.split())\n",
    "s1=\"a,b,c,d\"\n",
    "print(s1.split(\",\"))"
   ]
  },
  {
   "cell_type": "code",
   "execution_count": 17,
   "metadata": {},
   "outputs": [
    {
     "name": "stdout",
     "output_type": "stream",
     "text": [
      "azc\n"
     ]
    }
   ],
   "source": [
    "#replace -->\n",
    "s=\"abc\"\n",
    "s=s.replace('b','z')\n",
    "print(s)"
   ]
  },
  {
   "cell_type": "code",
   "execution_count": 18,
   "metadata": {},
   "outputs": [
    {
     "name": "stdout",
     "output_type": "stream",
     "text": [
      "enter position:4\n",
      "enter a string:shreyas\n",
      "shryas\n"
     ]
    }
   ],
   "source": [
    "#accept a number(n) from the user and remove nth position\n",
    "#character from the string\n",
    "#n=3\n",
    "#s=abcabc\n",
    "#output:ababc\n",
    "n=int(input(\"enter position:\"))\n",
    "s=input(\"enter a string:\")\n",
    "print(s.replace(s[n-1],\"\",1))"
   ]
  },
  {
   "cell_type": "markdown",
   "metadata": {},
   "source": [
    "# for loop:\n",
    "1. for loop with range() function\n",
    "2. for loop wth iterable object"
   ]
  },
  {
   "cell_type": "code",
   "execution_count": 19,
   "metadata": {},
   "outputs": [
    {
     "name": "stdout",
     "output_type": "stream",
     "text": [
      "1 2 3 4 5 6 7 8 9 10 \n",
      "1 2 3 4 5 6 7 8 9 10 "
     ]
    }
   ],
   "source": [
    "#print 1-n numbers on the screen\n",
    "n=10\n",
    "for i in range(1,n+1):\n",
    "  print(i,end=\" \")\n",
    "print()\n",
    "i=1\n",
    "while i<=n:\n",
    "  print(i,end=\" \")\n",
    "  i+=1"
   ]
  },
  {
   "cell_type": "code",
   "execution_count": 20,
   "metadata": {},
   "outputs": [
    {
     "name": "stdout",
     "output_type": "stream",
     "text": [
      "p\n",
      "y\n",
      "t\n",
      "h\n",
      "o\n",
      "n\n",
      "p\n",
      "y\n",
      "t\n",
      "h\n",
      "o\n",
      "n\n",
      "p\n",
      "y\n",
      "t\n",
      "h\n",
      "o\n",
      "n\n"
     ]
    }
   ],
   "source": [
    "s=\"python\"\n",
    "for i in s:\n",
    "   print(i)\n",
    "  \n",
    "#using while loop all the characters of your string vert\n",
    "i=0\n",
    "while i<len(s):\n",
    "  print(s[i])\n",
    "  i+=1\n",
    "\n",
    "#using for loop but you should not use iterale object\n",
    "for j in range(0,len(s)):\n",
    "    print(s[j])"
   ]
  },
  {
   "cell_type": "code",
   "execution_count": null,
   "metadata": {},
   "outputs": [],
   "source": []
  }
 ],
 "metadata": {
  "kernelspec": {
   "display_name": "Python 3",
   "language": "python",
   "name": "python3"
  },
  "language_info": {
   "codemirror_mode": {
    "name": "ipython",
    "version": 3
   },
   "file_extension": ".py",
   "mimetype": "text/x-python",
   "name": "python",
   "nbconvert_exporter": "python",
   "pygments_lexer": "ipython3",
   "version": "3.7.6"
  }
 },
 "nbformat": 4,
 "nbformat_minor": 4
}
